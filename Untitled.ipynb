{
 "cells": [
  {
   "cell_type": "code",
   "execution_count": 5,
   "id": "28cc709f-f6a2-4bcc-8b3d-f0a8147c72d4",
   "metadata": {},
   "outputs": [
    {
     "name": "stdout",
     "output_type": "stream",
     "text": [
      "Requirement already satisfied: pandas in c:\\users\\abdul\\anaconda3\\lib\\site-packages (2.2.2)\n",
      "Requirement already satisfied: numpy>=1.26.0 in c:\\users\\abdul\\anaconda3\\lib\\site-packages (from pandas) (1.26.4)\n",
      "Requirement already satisfied: python-dateutil>=2.8.2 in c:\\users\\abdul\\anaconda3\\lib\\site-packages (from pandas) (2.9.0.post0)\n",
      "Requirement already satisfied: pytz>=2020.1 in c:\\users\\abdul\\anaconda3\\lib\\site-packages (from pandas) (2024.1)\n",
      "Requirement already satisfied: tzdata>=2022.7 in c:\\users\\abdul\\anaconda3\\lib\\site-packages (from pandas) (2023.3)\n",
      "Requirement already satisfied: six>=1.5 in c:\\users\\abdul\\anaconda3\\lib\\site-packages (from python-dateutil>=2.8.2->pandas) (1.16.0)\n",
      "Note: you may need to restart the kernel to use updated packages.\n"
     ]
    }
   ],
   "source": [
    "pip install pandas"
   ]
  },
  {
   "cell_type": "code",
   "execution_count": 3,
   "id": "cc9688e2-ca1e-46fb-9151-19bd1b57ed36",
   "metadata": {},
   "outputs": [],
   "source": [
    "import random"
   ]
  },
  {
   "cell_type": "code",
   "execution_count": 7,
   "id": "c0092a1b-dcf9-49ff-87ba-bb28265aaf92",
   "metadata": {},
   "outputs": [
    {
     "name": "stdout",
     "output_type": "stream",
     "text": [
      "=== XORShift ===\n",
      "Adım 1: Xn = 123456789, Xn+1 = 16227855210613\n",
      "Adım 2: Xn = 16227855210613, Xn+1 = 2119066357302918408\n",
      "Adım 3: Xn = 2119066357302918408, Xn+1 = 11274521327230109802\n",
      "Adım 4: Xn = 11274521327230109802, Xn+1 = 2980257948923270720\n",
      "Adım 5: Xn = 2980257948923270720, Xn+1 = 7554124539772693004\n",
      "\n",
      "=== PCG ===\n",
      "Adım 1: State = 18192599831048943872, Xn+1 = 508136895\n",
      "Adım 2: State = 16626069846921725519, Xn+1 = 1999078365\n",
      "Adım 3: State = 14460625333602356786, Xn+1 = 3829448074\n",
      "Adım 4: State = 295651901058895385, Xn+1 = 2202769951\n",
      "Adım 5: State = 5451256728882455220, Xn+1 = 1438281023\n",
      "\n",
      "=== Mersenne Twister ===\n",
      "Adım 1: Xn+1 = 2754794679\n",
      "Adım 2: Xn+1 = 1899526012\n",
      "Adım 3: Xn+1 = 2328685183\n",
      "Adım 4: Xn+1 = 3049235403\n",
      "Adım 5: Xn+1 = 4265654401\n"
     ]
    }
   ],
   "source": [
    "\n",
    "\n",
    "def xorshift(x):\n",
    "    x ^= (x >> 13)\n",
    "    x ^= (x << 17)\n",
    "    x ^= (x >> 5)\n",
    "    return x & 0xFFFFFFFFFFFFFFFF\n",
    "\n",
    "def pcg32(state):\n",
    "    multiplier = 6364136223846793005\n",
    "    increment = 1442695040888963407\n",
    "    state = (state * multiplier + increment) & 0xFFFFFFFFFFFFFFFF\n",
    "    xorshifted = ((state >> 18) ^ state) >> 27\n",
    "    rot = state >> 59\n",
    "    result = (xorshifted >> rot) | (xorshifted << ((-rot) & 31))\n",
    "    return state, result & 0xFFFFFFFF\n",
    "\n",
    "def mersenne_twister(seed, steps):\n",
    "    rng = random.Random(seed)\n",
    "    return [rng.getrandbits(32) for _ in range(steps)]\n",
    "\n",
    "initial_value = 123456789\n",
    "steps = 5\n",
    "\n",
    "print(\"=== XORShift ===\")\n",
    "x = initial_value\n",
    "for i in range(steps):\n",
    "    new_x = xorshift(x)\n",
    "    print(f\"Adım {i+1}: Xn = {x}, Xn+1 = {new_x}\")\n",
    "    x = new_x\n",
    "\n",
    "print(\"\\n=== PCG ===\")\n",
    "state = initial_value\n",
    "for i in range(steps):\n",
    "    state, value = pcg32(state)\n",
    "    print(f\"Adım {i+1}: State = {state}, Xn+1 = {value}\")\n",
    "\n",
    "print(\"\\n=== Mersenne Twister ===\")\n",
    "mt_values = mersenne_twister(initial_value, steps)\n",
    "for i, val in enumerate(mt_values):\n",
    "    print(f\"Adım {i+1}: Xn+1 = {val}\")\n"
   ]
  },
  {
   "cell_type": "code",
   "execution_count": null,
   "id": "35ac9f4b-b3e7-4100-88de-c517a2d9f465",
   "metadata": {},
   "outputs": [],
   "source": []
  }
 ],
 "metadata": {
  "kernelspec": {
   "display_name": "Python [conda env:base] *",
   "language": "python",
   "name": "conda-base-py"
  },
  "language_info": {
   "codemirror_mode": {
    "name": "ipython",
    "version": 3
   },
   "file_extension": ".py",
   "mimetype": "text/x-python",
   "name": "python",
   "nbconvert_exporter": "python",
   "pygments_lexer": "ipython3",
   "version": "3.12.7"
  }
 },
 "nbformat": 4,
 "nbformat_minor": 5
}
