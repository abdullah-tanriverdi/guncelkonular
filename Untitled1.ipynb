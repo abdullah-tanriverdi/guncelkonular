{
 "cells": [
  {
   "cell_type": "code",
   "execution_count": 13,
   "id": "fa3521a8-d589-4438-ac9c-117473b798ce",
   "metadata": {},
   "outputs": [
    {
     "name": "stdout",
     "output_type": "stream",
     "text": [
      "Requirement already satisfied: experta in c:\\users\\abdul\\anaconda3\\lib\\site-packages (1.9.4)\n",
      "Collecting frozendict==1.2 (from experta)\n",
      "  Using cached frozendict-1.2-py3-none-any.whl\n",
      "Requirement already satisfied: schema==0.6.7 in c:\\users\\abdul\\anaconda3\\lib\\site-packages (from experta) (0.6.7)\n",
      "Installing collected packages: frozendict\n",
      "  Attempting uninstall: frozendict\n",
      "    Found existing installation: frozendict 2.4.6\n",
      "    Uninstalling frozendict-2.4.6:\n",
      "      Successfully uninstalled frozendict-2.4.6\n",
      "Successfully installed frozendict-1.2\n",
      "Note: you may need to restart the kernel to use updated packages.\n"
     ]
    },
    {
     "name": "stderr",
     "output_type": "stream",
     "text": [
      "ERROR: pip's dependency resolver does not currently take into account all the packages that are installed. This behaviour is the source of the following dependency conflicts.\n",
      "conda 24.11.3 requires frozendict>=2.4.2, but you have frozendict 1.2 which is incompatible.\n",
      "conda-build 24.9.0 requires frozendict>=2.4.2, but you have frozendict 1.2 which is incompatible.\n"
     ]
    }
   ],
   "source": [
    "pip install experta\n"
   ]
  },
  {
   "cell_type": "code",
   "execution_count": 15,
   "id": "ef64d68b-7a41-44a5-a381-0956f5a68f86",
   "metadata": {},
   "outputs": [
    {
     "name": "stdout",
     "output_type": "stream",
     "text": [
      "Requirement already satisfied: frozendict in c:\\users\\abdul\\anaconda3\\lib\\site-packages (1.2)\n",
      "Collecting frozendict\n",
      "  Using cached frozendict-2.4.6-py312-none-any.whl.metadata (23 kB)\n",
      "Using cached frozendict-2.4.6-py312-none-any.whl (16 kB)\n",
      "Installing collected packages: frozendict\n",
      "  Attempting uninstall: frozendict\n",
      "    Found existing installation: frozendict 1.2\n",
      "    Uninstalling frozendict-1.2:\n",
      "      Successfully uninstalled frozendict-1.2\n",
      "Successfully installed frozendict-2.4.6\n"
     ]
    },
    {
     "name": "stderr",
     "output_type": "stream",
     "text": [
      "ERROR: pip's dependency resolver does not currently take into account all the packages that are installed. This behaviour is the source of the following dependency conflicts.\n",
      "experta 1.9.4 requires frozendict==1.2, but you have frozendict 2.4.6 which is incompatible.\n"
     ]
    }
   ],
   "source": [
    "!pip install frozendict --upgrade\n"
   ]
  },
  {
   "cell_type": "code",
   "execution_count": 17,
   "id": "caed22bf-8e99-4a32-9c7e-8c0058eaee89",
   "metadata": {},
   "outputs": [
    {
     "name": "stdout",
     "output_type": "stream",
     "text": [
      "Collecting frozendict==2.4.2\n",
      "  Downloading frozendict-2.4.2.tar.gz (315 kB)\n",
      "  Installing build dependencies: started\n",
      "  Installing build dependencies: finished with status 'done'\n",
      "  Getting requirements to build wheel: started\n",
      "  Getting requirements to build wheel: finished with status 'done'\n",
      "  Preparing metadata (pyproject.toml): started\n",
      "  Preparing metadata (pyproject.toml): finished with status 'done'\n",
      "Building wheels for collected packages: frozendict\n",
      "  Building wheel for frozendict (pyproject.toml): started\n",
      "  Building wheel for frozendict (pyproject.toml): finished with status 'done'\n",
      "  Created wheel for frozendict: filename=frozendict-2.4.2-cp312-cp312-win_amd64.whl size=15636 sha256=449984dd75060c4cd572442625c970746bbf38eaba97f6711ac01fb0debb13b0\n",
      "  Stored in directory: c:\\users\\abdul\\appdata\\local\\pip\\cache\\wheels\\27\\ad\\d9\\1c34a1bc48bf0fc4aee0887230b95ac6329426bffd89d5b6ac\n",
      "Successfully built frozendict\n",
      "Installing collected packages: frozendict\n",
      "  Attempting uninstall: frozendict\n",
      "    Found existing installation: frozendict 2.4.6\n",
      "    Uninstalling frozendict-2.4.6:\n",
      "      Successfully uninstalled frozendict-2.4.6\n",
      "Successfully installed frozendict-2.4.2\n"
     ]
    },
    {
     "name": "stderr",
     "output_type": "stream",
     "text": [
      "ERROR: pip's dependency resolver does not currently take into account all the packages that are installed. This behaviour is the source of the following dependency conflicts.\n",
      "experta 1.9.4 requires frozendict==1.2, but you have frozendict 2.4.2 which is incompatible.\n"
     ]
    }
   ],
   "source": [
    "!pip install frozendict==2.4.2"
   ]
  },
  {
   "cell_type": "code",
   "execution_count": 19,
   "id": "6edf95ab-6b00-4bd6-8d99-dd8d3f47d299",
   "metadata": {},
   "outputs": [
    {
     "name": "stdout",
     "output_type": "stream",
     "text": [
      "Collecting frozendict==1.2\n",
      "  Using cached frozendict-1.2-py3-none-any.whl\n",
      "Installing collected packages: frozendict\n",
      "  Attempting uninstall: frozendict\n",
      "    Found existing installation: frozendict 2.4.2\n",
      "    Uninstalling frozendict-2.4.2:\n",
      "      Successfully uninstalled frozendict-2.4.2\n",
      "Successfully installed frozendict-1.2\n"
     ]
    },
    {
     "name": "stderr",
     "output_type": "stream",
     "text": [
      "ERROR: pip's dependency resolver does not currently take into account all the packages that are installed. This behaviour is the source of the following dependency conflicts.\n",
      "conda 24.11.3 requires frozendict>=2.4.2, but you have frozendict 1.2 which is incompatible.\n",
      "conda-build 24.9.0 requires frozendict>=2.4.2, but you have frozendict 1.2 which is incompatible.\n"
     ]
    }
   ],
   "source": [
    "!pip install frozendict==1.2\n"
   ]
  },
  {
   "cell_type": "code",
   "execution_count": 21,
   "id": "3db0698a-4362-4d78-ba16-5c884c3d6a5c",
   "metadata": {},
   "outputs": [
    {
     "name": "stdout",
     "output_type": "stream",
     "text": [
      "Requirement already satisfied: frozendict==1.2 in c:\\users\\abdul\\anaconda3\\lib\\site-packages (1.2)\n"
     ]
    }
   ],
   "source": [
    "!pip install frozendict==1.2\n"
   ]
  },
  {
   "cell_type": "code",
   "execution_count": 23,
   "id": "682ee329-9207-409b-a8e7-375e63d097e1",
   "metadata": {},
   "outputs": [
    {
     "ename": "AttributeError",
     "evalue": "module 'collections' has no attribute 'Mapping'",
     "output_type": "error",
     "traceback": [
      "\u001b[1;31m---------------------------------------------------------------------------\u001b[0m",
      "\u001b[1;31mAttributeError\u001b[0m                            Traceback (most recent call last)",
      "Cell \u001b[1;32mIn[23], line 1\u001b[0m\n\u001b[1;32m----> 1\u001b[0m \u001b[38;5;28;01mfrom\u001b[39;00m \u001b[38;5;21;01mexperta\u001b[39;00m \u001b[38;5;28;01mimport\u001b[39;00m \u001b[38;5;241m*\u001b[39m\n",
      "File \u001b[1;32m~\\anaconda3\\Lib\\site-packages\\experta\\__init__.py:5\u001b[0m\n\u001b[0;32m      3\u001b[0m \u001b[38;5;28;01mtry\u001b[39;00m:\n\u001b[0;32m      4\u001b[0m     \u001b[38;5;28;01mfrom\u001b[39;00m \u001b[38;5;21;01m.\u001b[39;00m\u001b[38;5;21;01mconditionalelement\u001b[39;00m \u001b[38;5;28;01mimport\u001b[39;00m AND, OR, NOT, TEST, EXISTS, FORALL\n\u001b[1;32m----> 5\u001b[0m     \u001b[38;5;28;01mfrom\u001b[39;00m \u001b[38;5;21;01m.\u001b[39;00m\u001b[38;5;21;01mengine\u001b[39;00m \u001b[38;5;28;01mimport\u001b[39;00m KnowledgeEngine\n\u001b[0;32m      6\u001b[0m     \u001b[38;5;28;01mfrom\u001b[39;00m \u001b[38;5;21;01m.\u001b[39;00m\u001b[38;5;21;01mfact\u001b[39;00m \u001b[38;5;28;01mimport\u001b[39;00m Fact, InitialFact, Field\n\u001b[0;32m      7\u001b[0m     \u001b[38;5;28;01mfrom\u001b[39;00m \u001b[38;5;21;01m.\u001b[39;00m\u001b[38;5;21;01mfieldconstraint\u001b[39;00m \u001b[38;5;28;01mimport\u001b[39;00m L, W, P\n",
      "File \u001b[1;32m~\\anaconda3\\Lib\\site-packages\\experta\\engine.py:13\u001b[0m\n\u001b[0;32m     10\u001b[0m \u001b[38;5;28;01mfrom\u001b[39;00m \u001b[38;5;21;01mexperta\u001b[39;00m \u001b[38;5;28;01mimport\u001b[39;00m abstract\n\u001b[0;32m     12\u001b[0m \u001b[38;5;28;01mfrom\u001b[39;00m \u001b[38;5;21;01mexperta\u001b[39;00m\u001b[38;5;21;01m.\u001b[39;00m\u001b[38;5;21;01magenda\u001b[39;00m \u001b[38;5;28;01mimport\u001b[39;00m Agenda\n\u001b[1;32m---> 13\u001b[0m \u001b[38;5;28;01mfrom\u001b[39;00m \u001b[38;5;21;01mexperta\u001b[39;00m\u001b[38;5;21;01m.\u001b[39;00m\u001b[38;5;21;01mfact\u001b[39;00m \u001b[38;5;28;01mimport\u001b[39;00m InitialFact\n\u001b[0;32m     14\u001b[0m \u001b[38;5;28;01mfrom\u001b[39;00m \u001b[38;5;21;01mexperta\u001b[39;00m\u001b[38;5;21;01m.\u001b[39;00m\u001b[38;5;21;01mfactlist\u001b[39;00m \u001b[38;5;28;01mimport\u001b[39;00m FactList\n\u001b[0;32m     15\u001b[0m \u001b[38;5;28;01mfrom\u001b[39;00m \u001b[38;5;21;01mexperta\u001b[39;00m\u001b[38;5;21;01m.\u001b[39;00m\u001b[38;5;21;01mrule\u001b[39;00m \u001b[38;5;28;01mimport\u001b[39;00m Rule\n",
      "File \u001b[1;32m~\\anaconda3\\Lib\\site-packages\\experta\\fact.py:9\u001b[0m\n\u001b[0;32m      6\u001b[0m \u001b[38;5;28;01mfrom\u001b[39;00m \u001b[38;5;21;01mschema\u001b[39;00m \u001b[38;5;28;01mimport\u001b[39;00m Schema\n\u001b[0;32m      8\u001b[0m \u001b[38;5;28;01mfrom\u001b[39;00m \u001b[38;5;21;01mexperta\u001b[39;00m\u001b[38;5;21;01m.\u001b[39;00m\u001b[38;5;21;01mpattern\u001b[39;00m \u001b[38;5;28;01mimport\u001b[39;00m Bindable\n\u001b[1;32m----> 9\u001b[0m \u001b[38;5;28;01mfrom\u001b[39;00m \u001b[38;5;21;01mexperta\u001b[39;00m\u001b[38;5;21;01m.\u001b[39;00m\u001b[38;5;21;01mutils\u001b[39;00m \u001b[38;5;28;01mimport\u001b[39;00m freeze, unfreeze\n\u001b[0;32m     10\u001b[0m \u001b[38;5;28;01mfrom\u001b[39;00m \u001b[38;5;21;01mexperta\u001b[39;00m\u001b[38;5;21;01m.\u001b[39;00m\u001b[38;5;21;01mconditionalelement\u001b[39;00m \u001b[38;5;28;01mimport\u001b[39;00m OperableCE\n\u001b[0;32m     11\u001b[0m \u001b[38;5;28;01mfrom\u001b[39;00m \u001b[38;5;21;01mexperta\u001b[39;00m\u001b[38;5;21;01m.\u001b[39;00m\u001b[38;5;21;01mconditionalelement\u001b[39;00m \u001b[38;5;28;01mimport\u001b[39;00m ConditionalElement\n",
      "File \u001b[1;32m~\\anaconda3\\Lib\\site-packages\\experta\\utils.py:4\u001b[0m\n\u001b[0;32m      1\u001b[0m \u001b[38;5;28;01mfrom\u001b[39;00m \u001b[38;5;21;01mfunctools\u001b[39;00m \u001b[38;5;28;01mimport\u001b[39;00m singledispatch\n\u001b[0;32m      2\u001b[0m \u001b[38;5;28;01mimport\u001b[39;00m \u001b[38;5;21;01mcollections\u001b[39;00m\u001b[38;5;21;01m.\u001b[39;00m\u001b[38;5;21;01mabc\u001b[39;00m\n\u001b[1;32m----> 4\u001b[0m \u001b[38;5;28;01mfrom\u001b[39;00m \u001b[38;5;21;01mfrozendict\u001b[39;00m \u001b[38;5;28;01mimport\u001b[39;00m frozendict\n\u001b[0;32m      6\u001b[0m \u001b[38;5;28;01mfrom\u001b[39;00m \u001b[38;5;21;01m.\u001b[39;00m\u001b[38;5;21;01mfieldconstraint\u001b[39;00m \u001b[38;5;28;01mimport\u001b[39;00m P\n\u001b[0;32m      9\u001b[0m \u001b[38;5;28;01mclass\u001b[39;00m \u001b[38;5;21;01mfrozenlist\u001b[39;00m(\u001b[38;5;28mtuple\u001b[39m):\n",
      "File \u001b[1;32m~\\anaconda3\\Lib\\site-packages\\frozendict\\__init__.py:16\u001b[0m\n\u001b[0;32m     10\u001b[0m     OrderedDict \u001b[38;5;241m=\u001b[39m \u001b[38;5;28mNotImplemented\u001b[39m\n\u001b[0;32m     13\u001b[0m iteritems \u001b[38;5;241m=\u001b[39m \u001b[38;5;28mgetattr\u001b[39m(\u001b[38;5;28mdict\u001b[39m, \u001b[38;5;124m'\u001b[39m\u001b[38;5;124miteritems\u001b[39m\u001b[38;5;124m'\u001b[39m, \u001b[38;5;28mdict\u001b[39m\u001b[38;5;241m.\u001b[39mitems) \u001b[38;5;66;03m# py2-3 compatibility\u001b[39;00m\n\u001b[1;32m---> 16\u001b[0m \u001b[38;5;28;01mclass\u001b[39;00m \u001b[38;5;21;01mfrozendict\u001b[39;00m(collections\u001b[38;5;241m.\u001b[39mMapping):\n\u001b[0;32m     17\u001b[0m \u001b[38;5;250m    \u001b[39m\u001b[38;5;124;03m\"\"\"\u001b[39;00m\n\u001b[0;32m     18\u001b[0m \u001b[38;5;124;03m    An immutable wrapper around dictionaries that implements the complete :py:class:`collections.Mapping`\u001b[39;00m\n\u001b[0;32m     19\u001b[0m \u001b[38;5;124;03m    interface. It can be used as a drop-in replacement for dictionaries where immutability is desired.\u001b[39;00m\n\u001b[0;32m     20\u001b[0m \u001b[38;5;124;03m    \"\"\"\u001b[39;00m\n\u001b[0;32m     22\u001b[0m     dict_cls \u001b[38;5;241m=\u001b[39m \u001b[38;5;28mdict\u001b[39m\n",
      "\u001b[1;31mAttributeError\u001b[0m: module 'collections' has no attribute 'Mapping'"
     ]
    }
   ],
   "source": [
    "from experta import *\n"
   ]
  },
  {
   "cell_type": "code",
   "execution_count": 25,
   "id": "27829b16-dcae-4a21-bed3-181f5d09aa92",
   "metadata": {},
   "outputs": [
    {
     "ename": "AttributeError",
     "evalue": "module 'collections' has no attribute 'Mapping'",
     "output_type": "error",
     "traceback": [
      "\u001b[1;31m---------------------------------------------------------------------------\u001b[0m",
      "\u001b[1;31mAttributeError\u001b[0m                            Traceback (most recent call last)",
      "Cell \u001b[1;32mIn[25], line 1\u001b[0m\n\u001b[1;32m----> 1\u001b[0m \u001b[38;5;28;01mfrom\u001b[39;00m \u001b[38;5;21;01mexperta\u001b[39;00m \u001b[38;5;28;01mimport\u001b[39;00m \u001b[38;5;241m*\u001b[39m\n\u001b[0;32m      3\u001b[0m \u001b[38;5;66;03m# Trafik ışıkları için uzman sistem sınıfı\u001b[39;00m\n\u001b[0;32m      4\u001b[0m \u001b[38;5;28;01mclass\u001b[39;00m \u001b[38;5;21;01mTrafikIsiklar\u001b[39;00m(KnowledgeEngine):\n",
      "File \u001b[1;32m~\\anaconda3\\Lib\\site-packages\\experta\\__init__.py:5\u001b[0m\n\u001b[0;32m      3\u001b[0m \u001b[38;5;28;01mtry\u001b[39;00m:\n\u001b[0;32m      4\u001b[0m     \u001b[38;5;28;01mfrom\u001b[39;00m \u001b[38;5;21;01m.\u001b[39;00m\u001b[38;5;21;01mconditionalelement\u001b[39;00m \u001b[38;5;28;01mimport\u001b[39;00m AND, OR, NOT, TEST, EXISTS, FORALL\n\u001b[1;32m----> 5\u001b[0m     \u001b[38;5;28;01mfrom\u001b[39;00m \u001b[38;5;21;01m.\u001b[39;00m\u001b[38;5;21;01mengine\u001b[39;00m \u001b[38;5;28;01mimport\u001b[39;00m KnowledgeEngine\n\u001b[0;32m      6\u001b[0m     \u001b[38;5;28;01mfrom\u001b[39;00m \u001b[38;5;21;01m.\u001b[39;00m\u001b[38;5;21;01mfact\u001b[39;00m \u001b[38;5;28;01mimport\u001b[39;00m Fact, InitialFact, Field\n\u001b[0;32m      7\u001b[0m     \u001b[38;5;28;01mfrom\u001b[39;00m \u001b[38;5;21;01m.\u001b[39;00m\u001b[38;5;21;01mfieldconstraint\u001b[39;00m \u001b[38;5;28;01mimport\u001b[39;00m L, W, P\n",
      "File \u001b[1;32m~\\anaconda3\\Lib\\site-packages\\experta\\engine.py:13\u001b[0m\n\u001b[0;32m     10\u001b[0m \u001b[38;5;28;01mfrom\u001b[39;00m \u001b[38;5;21;01mexperta\u001b[39;00m \u001b[38;5;28;01mimport\u001b[39;00m abstract\n\u001b[0;32m     12\u001b[0m \u001b[38;5;28;01mfrom\u001b[39;00m \u001b[38;5;21;01mexperta\u001b[39;00m\u001b[38;5;21;01m.\u001b[39;00m\u001b[38;5;21;01magenda\u001b[39;00m \u001b[38;5;28;01mimport\u001b[39;00m Agenda\n\u001b[1;32m---> 13\u001b[0m \u001b[38;5;28;01mfrom\u001b[39;00m \u001b[38;5;21;01mexperta\u001b[39;00m\u001b[38;5;21;01m.\u001b[39;00m\u001b[38;5;21;01mfact\u001b[39;00m \u001b[38;5;28;01mimport\u001b[39;00m InitialFact\n\u001b[0;32m     14\u001b[0m \u001b[38;5;28;01mfrom\u001b[39;00m \u001b[38;5;21;01mexperta\u001b[39;00m\u001b[38;5;21;01m.\u001b[39;00m\u001b[38;5;21;01mfactlist\u001b[39;00m \u001b[38;5;28;01mimport\u001b[39;00m FactList\n\u001b[0;32m     15\u001b[0m \u001b[38;5;28;01mfrom\u001b[39;00m \u001b[38;5;21;01mexperta\u001b[39;00m\u001b[38;5;21;01m.\u001b[39;00m\u001b[38;5;21;01mrule\u001b[39;00m \u001b[38;5;28;01mimport\u001b[39;00m Rule\n",
      "File \u001b[1;32m~\\anaconda3\\Lib\\site-packages\\experta\\fact.py:9\u001b[0m\n\u001b[0;32m      6\u001b[0m \u001b[38;5;28;01mfrom\u001b[39;00m \u001b[38;5;21;01mschema\u001b[39;00m \u001b[38;5;28;01mimport\u001b[39;00m Schema\n\u001b[0;32m      8\u001b[0m \u001b[38;5;28;01mfrom\u001b[39;00m \u001b[38;5;21;01mexperta\u001b[39;00m\u001b[38;5;21;01m.\u001b[39;00m\u001b[38;5;21;01mpattern\u001b[39;00m \u001b[38;5;28;01mimport\u001b[39;00m Bindable\n\u001b[1;32m----> 9\u001b[0m \u001b[38;5;28;01mfrom\u001b[39;00m \u001b[38;5;21;01mexperta\u001b[39;00m\u001b[38;5;21;01m.\u001b[39;00m\u001b[38;5;21;01mutils\u001b[39;00m \u001b[38;5;28;01mimport\u001b[39;00m freeze, unfreeze\n\u001b[0;32m     10\u001b[0m \u001b[38;5;28;01mfrom\u001b[39;00m \u001b[38;5;21;01mexperta\u001b[39;00m\u001b[38;5;21;01m.\u001b[39;00m\u001b[38;5;21;01mconditionalelement\u001b[39;00m \u001b[38;5;28;01mimport\u001b[39;00m OperableCE\n\u001b[0;32m     11\u001b[0m \u001b[38;5;28;01mfrom\u001b[39;00m \u001b[38;5;21;01mexperta\u001b[39;00m\u001b[38;5;21;01m.\u001b[39;00m\u001b[38;5;21;01mconditionalelement\u001b[39;00m \u001b[38;5;28;01mimport\u001b[39;00m ConditionalElement\n",
      "File \u001b[1;32m~\\anaconda3\\Lib\\site-packages\\experta\\utils.py:4\u001b[0m\n\u001b[0;32m      1\u001b[0m \u001b[38;5;28;01mfrom\u001b[39;00m \u001b[38;5;21;01mfunctools\u001b[39;00m \u001b[38;5;28;01mimport\u001b[39;00m singledispatch\n\u001b[0;32m      2\u001b[0m \u001b[38;5;28;01mimport\u001b[39;00m \u001b[38;5;21;01mcollections\u001b[39;00m\u001b[38;5;21;01m.\u001b[39;00m\u001b[38;5;21;01mabc\u001b[39;00m\n\u001b[1;32m----> 4\u001b[0m \u001b[38;5;28;01mfrom\u001b[39;00m \u001b[38;5;21;01mfrozendict\u001b[39;00m \u001b[38;5;28;01mimport\u001b[39;00m frozendict\n\u001b[0;32m      6\u001b[0m \u001b[38;5;28;01mfrom\u001b[39;00m \u001b[38;5;21;01m.\u001b[39;00m\u001b[38;5;21;01mfieldconstraint\u001b[39;00m \u001b[38;5;28;01mimport\u001b[39;00m P\n\u001b[0;32m      9\u001b[0m \u001b[38;5;28;01mclass\u001b[39;00m \u001b[38;5;21;01mfrozenlist\u001b[39;00m(\u001b[38;5;28mtuple\u001b[39m):\n",
      "File \u001b[1;32m~\\anaconda3\\Lib\\site-packages\\frozendict\\__init__.py:16\u001b[0m\n\u001b[0;32m     10\u001b[0m     OrderedDict \u001b[38;5;241m=\u001b[39m \u001b[38;5;28mNotImplemented\u001b[39m\n\u001b[0;32m     13\u001b[0m iteritems \u001b[38;5;241m=\u001b[39m \u001b[38;5;28mgetattr\u001b[39m(\u001b[38;5;28mdict\u001b[39m, \u001b[38;5;124m'\u001b[39m\u001b[38;5;124miteritems\u001b[39m\u001b[38;5;124m'\u001b[39m, \u001b[38;5;28mdict\u001b[39m\u001b[38;5;241m.\u001b[39mitems) \u001b[38;5;66;03m# py2-3 compatibility\u001b[39;00m\n\u001b[1;32m---> 16\u001b[0m \u001b[38;5;28;01mclass\u001b[39;00m \u001b[38;5;21;01mfrozendict\u001b[39;00m(collections\u001b[38;5;241m.\u001b[39mMapping):\n\u001b[0;32m     17\u001b[0m \u001b[38;5;250m    \u001b[39m\u001b[38;5;124;03m\"\"\"\u001b[39;00m\n\u001b[0;32m     18\u001b[0m \u001b[38;5;124;03m    An immutable wrapper around dictionaries that implements the complete :py:class:`collections.Mapping`\u001b[39;00m\n\u001b[0;32m     19\u001b[0m \u001b[38;5;124;03m    interface. It can be used as a drop-in replacement for dictionaries where immutability is desired.\u001b[39;00m\n\u001b[0;32m     20\u001b[0m \u001b[38;5;124;03m    \"\"\"\u001b[39;00m\n\u001b[0;32m     22\u001b[0m     dict_cls \u001b[38;5;241m=\u001b[39m \u001b[38;5;28mdict\u001b[39m\n",
      "\u001b[1;31mAttributeError\u001b[0m: module 'collections' has no attribute 'Mapping'"
     ]
    }
   ],
   "source": [
    "from experta import *\n",
    "\n",
    "# Trafik ışıkları için uzman sistem sınıfı\n",
    "class TrafikIsiklar(KnowledgeEngine):\n",
    "    \n",
    "    @DefFacts()\n",
    "    def _initial_action(self):\n",
    "        yield Fact(traffik_isigi=None)  # Başlangıçta trafik ışığı durumu belirlenmemiş\n",
    "    \n",
    "    @Rule(Fact(traffik_isigi='yesil'))  # Eğer trafik ışığı yeşilse\n",
    "    def yesil_isik(self):\n",
    "        print(\"Yaya karşıdan karşıya geçebilir.\")\n",
    "    \n",
    "    @Rule(Fact(traffik_isigi='kirmizi'))  # Eğer trafik ışığı kırmızıysa\n",
    "    def kirmizi_isik(self):\n",
    "        print(\"Yaya karşıdan karşıya geçemez.\")\n",
    "    \n",
    "    @Rule(Fact(traffik_isigi='sari'))  # Eğer trafik ışığı sarıysa\n",
    "    def sari_isik(self):\n",
    "        print(\"Yaya dikkatli olmalıdır.\")\n",
    "\n",
    "# Trafik ışıklarını test etme\n",
    "engine = TrafikIsiklar()\n",
    "\n",
    "# Yeşil ışık testi\n",
    "print(\"Yeşil Işık Durumu:\")\n",
    "engine.reset()  # Sistemi sıfırlayın\n",
    "engine.declare(Fact(traffik_isigi='yesil'))  # Yeşil ışık ver\n",
    "engine.run()  # Kuralları çalıştır\n",
    "\n",
    "print(\"\\nKırmızı Işık Durumu:\")\n",
    "# Kırmızı ışık testi\n",
    "engine.reset()  # Sistemi sıfırlayın\n",
    "engine.declare(Fact(traffik_isigi='kirmizi'))  # Kırmızı ışık ver\n",
    "engine.run()  # Kuralları çalıştır\n",
    "\n",
    "print(\"\\nSarı Işık Durumu:\")\n",
    "# Sarı ışık testi\n",
    "engine.reset()  # Sistemi sıfırlayın\n",
    "engine.declare(Fact(traffik_isigi='sari'))  # Sarı ışık ver\n",
    "engine.run()  # Kuralları çalıştır\n"
   ]
  },
  {
   "cell_type": "code",
   "execution_count": 27,
   "id": "1b1c4d1c-24d8-43f3-a81c-7a2655a2a791",
   "metadata": {},
   "outputs": [
    {
     "name": "stdout",
     "output_type": "stream",
     "text": [
      "Requirement already satisfied: experta in c:\\users\\abdul\\anaconda3\\lib\\site-packages (1.9.4)\n",
      "Requirement already satisfied: frozendict==1.2 in c:\\users\\abdul\\anaconda3\\lib\\site-packages (from experta) (1.2)\n",
      "Requirement already satisfied: schema==0.6.7 in c:\\users\\abdul\\anaconda3\\lib\\site-packages (from experta) (0.6.7)\n",
      "Note: you may need to restart the kernel to use updated packages.\n"
     ]
    }
   ],
   "source": [
    "pip install --upgrade experta\n"
   ]
  },
  {
   "cell_type": "code",
   "execution_count": 29,
   "id": "1dcf2065-72b3-428d-94bb-02321c313480",
   "metadata": {},
   "outputs": [
    {
     "ename": "AttributeError",
     "evalue": "module 'collections' has no attribute 'Mapping'",
     "output_type": "error",
     "traceback": [
      "\u001b[1;31m---------------------------------------------------------------------------\u001b[0m",
      "\u001b[1;31mAttributeError\u001b[0m                            Traceback (most recent call last)",
      "Cell \u001b[1;32mIn[29], line 1\u001b[0m\n\u001b[1;32m----> 1\u001b[0m \u001b[38;5;28;01mfrom\u001b[39;00m \u001b[38;5;21;01mexperta\u001b[39;00m \u001b[38;5;28;01mimport\u001b[39;00m \u001b[38;5;241m*\u001b[39m\n\u001b[0;32m      3\u001b[0m \u001b[38;5;66;03m# Trafik ışıkları için uzman sistem sınıfı\u001b[39;00m\n\u001b[0;32m      4\u001b[0m \u001b[38;5;28;01mclass\u001b[39;00m \u001b[38;5;21;01mTrafikIsiklar\u001b[39;00m(KnowledgeEngine):\n",
      "File \u001b[1;32m~\\anaconda3\\Lib\\site-packages\\experta\\__init__.py:5\u001b[0m\n\u001b[0;32m      3\u001b[0m \u001b[38;5;28;01mtry\u001b[39;00m:\n\u001b[0;32m      4\u001b[0m     \u001b[38;5;28;01mfrom\u001b[39;00m \u001b[38;5;21;01m.\u001b[39;00m\u001b[38;5;21;01mconditionalelement\u001b[39;00m \u001b[38;5;28;01mimport\u001b[39;00m AND, OR, NOT, TEST, EXISTS, FORALL\n\u001b[1;32m----> 5\u001b[0m     \u001b[38;5;28;01mfrom\u001b[39;00m \u001b[38;5;21;01m.\u001b[39;00m\u001b[38;5;21;01mengine\u001b[39;00m \u001b[38;5;28;01mimport\u001b[39;00m KnowledgeEngine\n\u001b[0;32m      6\u001b[0m     \u001b[38;5;28;01mfrom\u001b[39;00m \u001b[38;5;21;01m.\u001b[39;00m\u001b[38;5;21;01mfact\u001b[39;00m \u001b[38;5;28;01mimport\u001b[39;00m Fact, InitialFact, Field\n\u001b[0;32m      7\u001b[0m     \u001b[38;5;28;01mfrom\u001b[39;00m \u001b[38;5;21;01m.\u001b[39;00m\u001b[38;5;21;01mfieldconstraint\u001b[39;00m \u001b[38;5;28;01mimport\u001b[39;00m L, W, P\n",
      "File \u001b[1;32m~\\anaconda3\\Lib\\site-packages\\experta\\engine.py:13\u001b[0m\n\u001b[0;32m     10\u001b[0m \u001b[38;5;28;01mfrom\u001b[39;00m \u001b[38;5;21;01mexperta\u001b[39;00m \u001b[38;5;28;01mimport\u001b[39;00m abstract\n\u001b[0;32m     12\u001b[0m \u001b[38;5;28;01mfrom\u001b[39;00m \u001b[38;5;21;01mexperta\u001b[39;00m\u001b[38;5;21;01m.\u001b[39;00m\u001b[38;5;21;01magenda\u001b[39;00m \u001b[38;5;28;01mimport\u001b[39;00m Agenda\n\u001b[1;32m---> 13\u001b[0m \u001b[38;5;28;01mfrom\u001b[39;00m \u001b[38;5;21;01mexperta\u001b[39;00m\u001b[38;5;21;01m.\u001b[39;00m\u001b[38;5;21;01mfact\u001b[39;00m \u001b[38;5;28;01mimport\u001b[39;00m InitialFact\n\u001b[0;32m     14\u001b[0m \u001b[38;5;28;01mfrom\u001b[39;00m \u001b[38;5;21;01mexperta\u001b[39;00m\u001b[38;5;21;01m.\u001b[39;00m\u001b[38;5;21;01mfactlist\u001b[39;00m \u001b[38;5;28;01mimport\u001b[39;00m FactList\n\u001b[0;32m     15\u001b[0m \u001b[38;5;28;01mfrom\u001b[39;00m \u001b[38;5;21;01mexperta\u001b[39;00m\u001b[38;5;21;01m.\u001b[39;00m\u001b[38;5;21;01mrule\u001b[39;00m \u001b[38;5;28;01mimport\u001b[39;00m Rule\n",
      "File \u001b[1;32m~\\anaconda3\\Lib\\site-packages\\experta\\fact.py:9\u001b[0m\n\u001b[0;32m      6\u001b[0m \u001b[38;5;28;01mfrom\u001b[39;00m \u001b[38;5;21;01mschema\u001b[39;00m \u001b[38;5;28;01mimport\u001b[39;00m Schema\n\u001b[0;32m      8\u001b[0m \u001b[38;5;28;01mfrom\u001b[39;00m \u001b[38;5;21;01mexperta\u001b[39;00m\u001b[38;5;21;01m.\u001b[39;00m\u001b[38;5;21;01mpattern\u001b[39;00m \u001b[38;5;28;01mimport\u001b[39;00m Bindable\n\u001b[1;32m----> 9\u001b[0m \u001b[38;5;28;01mfrom\u001b[39;00m \u001b[38;5;21;01mexperta\u001b[39;00m\u001b[38;5;21;01m.\u001b[39;00m\u001b[38;5;21;01mutils\u001b[39;00m \u001b[38;5;28;01mimport\u001b[39;00m freeze, unfreeze\n\u001b[0;32m     10\u001b[0m \u001b[38;5;28;01mfrom\u001b[39;00m \u001b[38;5;21;01mexperta\u001b[39;00m\u001b[38;5;21;01m.\u001b[39;00m\u001b[38;5;21;01mconditionalelement\u001b[39;00m \u001b[38;5;28;01mimport\u001b[39;00m OperableCE\n\u001b[0;32m     11\u001b[0m \u001b[38;5;28;01mfrom\u001b[39;00m \u001b[38;5;21;01mexperta\u001b[39;00m\u001b[38;5;21;01m.\u001b[39;00m\u001b[38;5;21;01mconditionalelement\u001b[39;00m \u001b[38;5;28;01mimport\u001b[39;00m ConditionalElement\n",
      "File \u001b[1;32m~\\anaconda3\\Lib\\site-packages\\experta\\utils.py:4\u001b[0m\n\u001b[0;32m      1\u001b[0m \u001b[38;5;28;01mfrom\u001b[39;00m \u001b[38;5;21;01mfunctools\u001b[39;00m \u001b[38;5;28;01mimport\u001b[39;00m singledispatch\n\u001b[0;32m      2\u001b[0m \u001b[38;5;28;01mimport\u001b[39;00m \u001b[38;5;21;01mcollections\u001b[39;00m\u001b[38;5;21;01m.\u001b[39;00m\u001b[38;5;21;01mabc\u001b[39;00m\n\u001b[1;32m----> 4\u001b[0m \u001b[38;5;28;01mfrom\u001b[39;00m \u001b[38;5;21;01mfrozendict\u001b[39;00m \u001b[38;5;28;01mimport\u001b[39;00m frozendict\n\u001b[0;32m      6\u001b[0m \u001b[38;5;28;01mfrom\u001b[39;00m \u001b[38;5;21;01m.\u001b[39;00m\u001b[38;5;21;01mfieldconstraint\u001b[39;00m \u001b[38;5;28;01mimport\u001b[39;00m P\n\u001b[0;32m      9\u001b[0m \u001b[38;5;28;01mclass\u001b[39;00m \u001b[38;5;21;01mfrozenlist\u001b[39;00m(\u001b[38;5;28mtuple\u001b[39m):\n",
      "File \u001b[1;32m~\\anaconda3\\Lib\\site-packages\\frozendict\\__init__.py:16\u001b[0m\n\u001b[0;32m     10\u001b[0m     OrderedDict \u001b[38;5;241m=\u001b[39m \u001b[38;5;28mNotImplemented\u001b[39m\n\u001b[0;32m     13\u001b[0m iteritems \u001b[38;5;241m=\u001b[39m \u001b[38;5;28mgetattr\u001b[39m(\u001b[38;5;28mdict\u001b[39m, \u001b[38;5;124m'\u001b[39m\u001b[38;5;124miteritems\u001b[39m\u001b[38;5;124m'\u001b[39m, \u001b[38;5;28mdict\u001b[39m\u001b[38;5;241m.\u001b[39mitems) \u001b[38;5;66;03m# py2-3 compatibility\u001b[39;00m\n\u001b[1;32m---> 16\u001b[0m \u001b[38;5;28;01mclass\u001b[39;00m \u001b[38;5;21;01mfrozendict\u001b[39;00m(collections\u001b[38;5;241m.\u001b[39mMapping):\n\u001b[0;32m     17\u001b[0m \u001b[38;5;250m    \u001b[39m\u001b[38;5;124;03m\"\"\"\u001b[39;00m\n\u001b[0;32m     18\u001b[0m \u001b[38;5;124;03m    An immutable wrapper around dictionaries that implements the complete :py:class:`collections.Mapping`\u001b[39;00m\n\u001b[0;32m     19\u001b[0m \u001b[38;5;124;03m    interface. It can be used as a drop-in replacement for dictionaries where immutability is desired.\u001b[39;00m\n\u001b[0;32m     20\u001b[0m \u001b[38;5;124;03m    \"\"\"\u001b[39;00m\n\u001b[0;32m     22\u001b[0m     dict_cls \u001b[38;5;241m=\u001b[39m \u001b[38;5;28mdict\u001b[39m\n",
      "\u001b[1;31mAttributeError\u001b[0m: module 'collections' has no attribute 'Mapping'"
     ]
    }
   ],
   "source": [
    "from experta import *\n",
    "\n",
    "# Trafik ışıkları için uzman sistem sınıfı\n",
    "class TrafikIsiklar(KnowledgeEngine):\n",
    "    \n",
    "    @DefFacts()\n",
    "    def _initial_action(self):\n",
    "        yield Fact(traffik_isigi=None)  # Başlangıçta trafik ışığı durumu belirlenmemiş\n",
    "    \n",
    "    @Rule(Fact(traffik_isigi='yesil'))  # Eğer trafik ışığı yeşilse\n",
    "    def yesil_isik(self):\n",
    "        print(\"Yaya karşıdan karşıya geçebilir.\")\n",
    "    \n",
    "    @Rule(Fact(traffik_isigi='kirmizi'))  # Eğer trafik ışığı kırmızıysa\n",
    "    def kirmizi_isik(self):\n",
    "        print(\"Yaya karşıdan karşıya geçemez.\")\n",
    "    \n",
    "    @Rule(Fact(traffik_isigi='sari'))  # Eğer trafik ışığı sarıysa\n",
    "    def sari_isik(self):\n",
    "        print(\"Yaya dikkatli olmalıdır.\")\n",
    "\n",
    "# Trafik ışıklarını test etme\n",
    "engine = TrafikIsiklar()\n",
    "\n",
    "# Yeşil ışık testi\n",
    "print(\"Yeşil Işık Durumu:\")\n",
    "engine.reset()  # Sistemi sıfırlayın\n",
    "engine.declare(Fact(traffik_isigi='yesil'))  # Yeşil ışık ver\n",
    "engine.run()  # Kuralları çalıştır\n",
    "\n",
    "print(\"\\nKırmızı Işık Durumu:\")\n",
    "# Kırmızı ışık testi\n",
    "engine.reset()  # Sistemi sıfırlayın\n",
    "engine.declare(Fact(traffik_isigi='kirmizi'))  # Kırmızı ışık ver\n",
    "engine.run()  # Kuralları çalıştır\n",
    "\n",
    "print(\"\\nSarı Işık Durumu:\")\n",
    "# Sarı ışık testi\n",
    "engine.reset()  # Sistemi sıfırlayın\n",
    "engine.declare(Fact(traffik_isigi='sari'))  # Sarı ışık ver\n",
    "engine.run()  # Kuralları çalıştır\n"
   ]
  },
  {
   "cell_type": "code",
   "execution_count": 31,
   "id": "8d55673f-5a14-4db5-9d98-34edf6fff5d5",
   "metadata": {},
   "outputs": [],
   "source": [
    "from random import choice"
   ]
  },
  {
   "cell_type": "code",
   "execution_count": 33,
   "id": "9b7259f6-705a-46a9-be3e-840446db295c",
   "metadata": {},
   "outputs": [
    {
     "ename": "AttributeError",
     "evalue": "module 'collections' has no attribute 'Mapping'",
     "output_type": "error",
     "traceback": [
      "\u001b[1;31m---------------------------------------------------------------------------\u001b[0m",
      "\u001b[1;31mAttributeError\u001b[0m                            Traceback (most recent call last)",
      "Cell \u001b[1;32mIn[33], line 1\u001b[0m\n\u001b[1;32m----> 1\u001b[0m \u001b[38;5;28;01mfrom\u001b[39;00m \u001b[38;5;21;01mexperta\u001b[39;00m \u001b[38;5;28;01mimport\u001b[39;00m \u001b[38;5;241m*\u001b[39m\n",
      "File \u001b[1;32m~\\anaconda3\\Lib\\site-packages\\experta\\__init__.py:5\u001b[0m\n\u001b[0;32m      3\u001b[0m \u001b[38;5;28;01mtry\u001b[39;00m:\n\u001b[0;32m      4\u001b[0m     \u001b[38;5;28;01mfrom\u001b[39;00m \u001b[38;5;21;01m.\u001b[39;00m\u001b[38;5;21;01mconditionalelement\u001b[39;00m \u001b[38;5;28;01mimport\u001b[39;00m AND, OR, NOT, TEST, EXISTS, FORALL\n\u001b[1;32m----> 5\u001b[0m     \u001b[38;5;28;01mfrom\u001b[39;00m \u001b[38;5;21;01m.\u001b[39;00m\u001b[38;5;21;01mengine\u001b[39;00m \u001b[38;5;28;01mimport\u001b[39;00m KnowledgeEngine\n\u001b[0;32m      6\u001b[0m     \u001b[38;5;28;01mfrom\u001b[39;00m \u001b[38;5;21;01m.\u001b[39;00m\u001b[38;5;21;01mfact\u001b[39;00m \u001b[38;5;28;01mimport\u001b[39;00m Fact, InitialFact, Field\n\u001b[0;32m      7\u001b[0m     \u001b[38;5;28;01mfrom\u001b[39;00m \u001b[38;5;21;01m.\u001b[39;00m\u001b[38;5;21;01mfieldconstraint\u001b[39;00m \u001b[38;5;28;01mimport\u001b[39;00m L, W, P\n",
      "File \u001b[1;32m~\\anaconda3\\Lib\\site-packages\\experta\\engine.py:13\u001b[0m\n\u001b[0;32m     10\u001b[0m \u001b[38;5;28;01mfrom\u001b[39;00m \u001b[38;5;21;01mexperta\u001b[39;00m \u001b[38;5;28;01mimport\u001b[39;00m abstract\n\u001b[0;32m     12\u001b[0m \u001b[38;5;28;01mfrom\u001b[39;00m \u001b[38;5;21;01mexperta\u001b[39;00m\u001b[38;5;21;01m.\u001b[39;00m\u001b[38;5;21;01magenda\u001b[39;00m \u001b[38;5;28;01mimport\u001b[39;00m Agenda\n\u001b[1;32m---> 13\u001b[0m \u001b[38;5;28;01mfrom\u001b[39;00m \u001b[38;5;21;01mexperta\u001b[39;00m\u001b[38;5;21;01m.\u001b[39;00m\u001b[38;5;21;01mfact\u001b[39;00m \u001b[38;5;28;01mimport\u001b[39;00m InitialFact\n\u001b[0;32m     14\u001b[0m \u001b[38;5;28;01mfrom\u001b[39;00m \u001b[38;5;21;01mexperta\u001b[39;00m\u001b[38;5;21;01m.\u001b[39;00m\u001b[38;5;21;01mfactlist\u001b[39;00m \u001b[38;5;28;01mimport\u001b[39;00m FactList\n\u001b[0;32m     15\u001b[0m \u001b[38;5;28;01mfrom\u001b[39;00m \u001b[38;5;21;01mexperta\u001b[39;00m\u001b[38;5;21;01m.\u001b[39;00m\u001b[38;5;21;01mrule\u001b[39;00m \u001b[38;5;28;01mimport\u001b[39;00m Rule\n",
      "File \u001b[1;32m~\\anaconda3\\Lib\\site-packages\\experta\\fact.py:9\u001b[0m\n\u001b[0;32m      6\u001b[0m \u001b[38;5;28;01mfrom\u001b[39;00m \u001b[38;5;21;01mschema\u001b[39;00m \u001b[38;5;28;01mimport\u001b[39;00m Schema\n\u001b[0;32m      8\u001b[0m \u001b[38;5;28;01mfrom\u001b[39;00m \u001b[38;5;21;01mexperta\u001b[39;00m\u001b[38;5;21;01m.\u001b[39;00m\u001b[38;5;21;01mpattern\u001b[39;00m \u001b[38;5;28;01mimport\u001b[39;00m Bindable\n\u001b[1;32m----> 9\u001b[0m \u001b[38;5;28;01mfrom\u001b[39;00m \u001b[38;5;21;01mexperta\u001b[39;00m\u001b[38;5;21;01m.\u001b[39;00m\u001b[38;5;21;01mutils\u001b[39;00m \u001b[38;5;28;01mimport\u001b[39;00m freeze, unfreeze\n\u001b[0;32m     10\u001b[0m \u001b[38;5;28;01mfrom\u001b[39;00m \u001b[38;5;21;01mexperta\u001b[39;00m\u001b[38;5;21;01m.\u001b[39;00m\u001b[38;5;21;01mconditionalelement\u001b[39;00m \u001b[38;5;28;01mimport\u001b[39;00m OperableCE\n\u001b[0;32m     11\u001b[0m \u001b[38;5;28;01mfrom\u001b[39;00m \u001b[38;5;21;01mexperta\u001b[39;00m\u001b[38;5;21;01m.\u001b[39;00m\u001b[38;5;21;01mconditionalelement\u001b[39;00m \u001b[38;5;28;01mimport\u001b[39;00m ConditionalElement\n",
      "File \u001b[1;32m~\\anaconda3\\Lib\\site-packages\\experta\\utils.py:4\u001b[0m\n\u001b[0;32m      1\u001b[0m \u001b[38;5;28;01mfrom\u001b[39;00m \u001b[38;5;21;01mfunctools\u001b[39;00m \u001b[38;5;28;01mimport\u001b[39;00m singledispatch\n\u001b[0;32m      2\u001b[0m \u001b[38;5;28;01mimport\u001b[39;00m \u001b[38;5;21;01mcollections\u001b[39;00m\u001b[38;5;21;01m.\u001b[39;00m\u001b[38;5;21;01mabc\u001b[39;00m\n\u001b[1;32m----> 4\u001b[0m \u001b[38;5;28;01mfrom\u001b[39;00m \u001b[38;5;21;01mfrozendict\u001b[39;00m \u001b[38;5;28;01mimport\u001b[39;00m frozendict\n\u001b[0;32m      6\u001b[0m \u001b[38;5;28;01mfrom\u001b[39;00m \u001b[38;5;21;01m.\u001b[39;00m\u001b[38;5;21;01mfieldconstraint\u001b[39;00m \u001b[38;5;28;01mimport\u001b[39;00m P\n\u001b[0;32m      9\u001b[0m \u001b[38;5;28;01mclass\u001b[39;00m \u001b[38;5;21;01mfrozenlist\u001b[39;00m(\u001b[38;5;28mtuple\u001b[39m):\n",
      "File \u001b[1;32m~\\anaconda3\\Lib\\site-packages\\frozendict\\__init__.py:16\u001b[0m\n\u001b[0;32m     10\u001b[0m     OrderedDict \u001b[38;5;241m=\u001b[39m \u001b[38;5;28mNotImplemented\u001b[39m\n\u001b[0;32m     13\u001b[0m iteritems \u001b[38;5;241m=\u001b[39m \u001b[38;5;28mgetattr\u001b[39m(\u001b[38;5;28mdict\u001b[39m, \u001b[38;5;124m'\u001b[39m\u001b[38;5;124miteritems\u001b[39m\u001b[38;5;124m'\u001b[39m, \u001b[38;5;28mdict\u001b[39m\u001b[38;5;241m.\u001b[39mitems) \u001b[38;5;66;03m# py2-3 compatibility\u001b[39;00m\n\u001b[1;32m---> 16\u001b[0m \u001b[38;5;28;01mclass\u001b[39;00m \u001b[38;5;21;01mfrozendict\u001b[39;00m(collections\u001b[38;5;241m.\u001b[39mMapping):\n\u001b[0;32m     17\u001b[0m \u001b[38;5;250m    \u001b[39m\u001b[38;5;124;03m\"\"\"\u001b[39;00m\n\u001b[0;32m     18\u001b[0m \u001b[38;5;124;03m    An immutable wrapper around dictionaries that implements the complete :py:class:`collections.Mapping`\u001b[39;00m\n\u001b[0;32m     19\u001b[0m \u001b[38;5;124;03m    interface. It can be used as a drop-in replacement for dictionaries where immutability is desired.\u001b[39;00m\n\u001b[0;32m     20\u001b[0m \u001b[38;5;124;03m    \"\"\"\u001b[39;00m\n\u001b[0;32m     22\u001b[0m     dict_cls \u001b[38;5;241m=\u001b[39m \u001b[38;5;28mdict\u001b[39m\n",
      "\u001b[1;31mAttributeError\u001b[0m: module 'collections' has no attribute 'Mapping'"
     ]
    }
   ],
   "source": [
    "from experta import *"
   ]
  },
  {
   "cell_type": "code",
   "execution_count": null,
   "id": "ddb890de-72f6-43ed-ad24-a3fcc81cc73f",
   "metadata": {},
   "outputs": [],
   "source": []
  }
 ],
 "metadata": {
  "kernelspec": {
   "display_name": "Python [conda env:base] *",
   "language": "python",
   "name": "conda-base-py"
  },
  "language_info": {
   "codemirror_mode": {
    "name": "ipython",
    "version": 3
   },
   "file_extension": ".py",
   "mimetype": "text/x-python",
   "name": "python",
   "nbconvert_exporter": "python",
   "pygments_lexer": "ipython3",
   "version": "3.12.7"
  }
 },
 "nbformat": 4,
 "nbformat_minor": 5
}
