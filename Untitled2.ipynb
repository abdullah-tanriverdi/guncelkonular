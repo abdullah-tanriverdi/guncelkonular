{
 "cells": [
  {
   "cell_type": "code",
   "execution_count": 1,
   "id": "3b520ebf-71a7-499f-957f-6a2b269da484",
   "metadata": {},
   "outputs": [
    {
     "name": "stdout",
     "output_type": "stream",
     "text": [
      "Collecting python-docx\n",
      "  Downloading python_docx-1.1.2-py3-none-any.whl.metadata (2.0 kB)\n",
      "Requirement already satisfied: lxml>=3.1.0 in c:\\users\\abdul\\anaconda3\\lib\\site-packages (from python-docx) (5.2.1)\n",
      "Requirement already satisfied: typing-extensions>=4.9.0 in c:\\users\\abdul\\anaconda3\\lib\\site-packages (from python-docx) (4.11.0)\n",
      "Downloading python_docx-1.1.2-py3-none-any.whl (244 kB)\n",
      "Installing collected packages: python-docx\n",
      "Successfully installed python-docx-1.1.2\n",
      "Note: you may need to restart the kernel to use updated packages.\n"
     ]
    }
   ],
   "source": [
    "pip install python-docx\n"
   ]
  },
  {
   "cell_type": "code",
   "execution_count": 3,
   "id": "11197fe2-aac7-4aa6-85b1-9b43e81edcfd",
   "metadata": {},
   "outputs": [],
   "source": [
    "from docx import Document\n",
    "\n",
    "doc = Document()\n",
    "\n",
    "doc.add_heading('DENEY FÖYÜ', 0)\n",
    "\n",
    "doc.add_paragraph('Deneyin Adı:', style='Heading 1')\n",
    "doc.add_paragraph('NIST Test Paketlerinin Teorik Olarak İncelenmesi')\n",
    "\n",
    "doc.add_paragraph('Deneyin Amacı:', style='Heading 1')\n",
    "doc.add_paragraph(\n",
    "    'Bu deneyin amacı, rastgele sayı üreticilerinin kalitesini değerlendirmek amacıyla geliştirilen '\n",
    "    'NIST test paketlerini teorik olarak incelemektir. Testlerin altında yatan matematiksel temeller analiz edilerek, '\n",
    "    'bu testlerin rastgelelik ölçümünde nasıl kullanıldıkları kavranacaktır.'\n",
    ")\n",
    "\n",
    "doc.add_paragraph('Teorik Bilgi:', style='Heading 1')\n",
    "\n",
    "doc.add_paragraph('1. NIST Test Paketi Nedir?')\n",
    "doc.add_paragraph(\n",
    "    'NIST (National Institute of Standards and Technology) tarafından geliştirilen bu test paketi, '\n",
    "    'kriptografik amaçlarla kullanılan rastgele sayıların istatistiksel olarak rastgeleliğini ölçmek için kullanılır. '\n",
    "    'Toplamda 15 farklı test içerir.', style='List Bullet'\n",
    ")\n",
    "\n",
    "doc.add_paragraph('2. Neden Kullanılır?')\n",
    "doc.add_paragraph(\n",
    "    'Kriptografi, güvenlik ve simülasyon gibi alanlarda kullanılan rastgele sayıların gerçekten rastgele olup olmadığını '\n",
    "    'anlamak için.', style='List Bullet'\n",
    ")\n",
    "\n",
    "doc.add_paragraph('3. Temel NIST Testleri ve Amaçları:')\n",
    "\n",
    "table = doc.add_table(rows=1, cols=2)\n",
    "table.style = 'Light Grid'\n",
    "\n",
    "hdr_cells = table.rows[0].cells\n",
    "hdr_cells[0].text = 'Test Adı'\n",
    "hdr_cells[1].text = 'Açıklama'\n",
    "\n",
    "tests = [\n",
    "    ('Frequency (Monobit) Test', '0 ve 1 sayılarının dengeli olup olmadığını test eder.'),\n",
    "    ('Runs Test', 'Bit dizisinde art arda gelen 0 ve 1’lerin uzunluklarını değerlendirir.'),\n",
    "    ('Longest Run of Ones', '1’lerin en uzun ardışık dizisini analiz eder.'),\n",
    "    ('Discrete Fourier Transform', 'Frekans bileşenleri yardımıyla rastgelelik dışı desenleri inceler.'),\n",
    "    ('Approximate Entropy', 'Bit dizisindeki örüntü tekrarlarını ölçerek entropiyi değerlendirir.'),\n",
    "    ('Cumulative Sums Test (Cusum)', 'Toplamların yönünü analiz ederek dengesizlik arar.')\n",
    "]\n",
    "\n",
    "for name, desc in tests:\n",
    "    row_cells = table.add_row().cells\n",
    "    row_cells[0].text = name\n",
    "    row_cells[1].text = desc\n",
    "\n",
    "doc.add_paragraph('4. Matematiksel Temeller:')\n",
    "doc.add_paragraph(\n",
    "    '- Testler genellikle hipotez testi temeline dayanır.\\n'\n",
    "    '  - H0 (Null Hypothesis): Bit dizisi rastgeledir.\\n'\n",
    "    '  - H1 (Alternative Hypothesis): Bit dizisi rastgele değildir.\\n'\n",
    "    '- Test sonuçları genellikle bir p-değeri (p-value) üretir.\\n'\n",
    "    '  - Eğer p-değeri > 0.01 ise dizi rastgele kabul edilir.'\n",
    ")\n",
    "\n",
    "doc.add_paragraph('Uygulama (Teorik İnceleme):', style='Heading 1')\n",
    "doc.add_paragraph(\n",
    "    'Her testin algoritmik ve istatistiksel olarak ne yaptığı incelenir. Gerçek bir uygulama yapılmadan, '\n",
    "    'testlerin nasıl çalıştığı, hangi durumlarda başarılı/başarısız oldukları analiz edilir.'\n",
    ")\n",
    "\n",
    "doc.add_paragraph('Sonuç ve Yorum:', style='Heading 1')\n",
    "doc.add_paragraph(\n",
    "    'NIST test paketi, bir rastgele sayı üreticisinin güvenilirliğini ve kalitesini anlamak için çok katmanlı ve güçlü bir yaklaşımdır. '\n",
    "    'Her test farklı bir istatistiksel özelliği ölçtüğünden, üreticinin genel başarımını değerlendirmek için '\n",
    "    'tüm testlerin birlikte yorumlanması gerekir.'\n",
    ")\n",
    "\n",
    "doc.save(\"NIST_Deney_Foyu.docx\")\n"
   ]
  },
  {
   "cell_type": "code",
   "execution_count": 5,
   "id": "3c59fcf3-9247-4801-915e-51496636f3b5",
   "metadata": {},
   "outputs": [
    {
     "name": "stdout",
     "output_type": "stream",
     "text": [
      "C:\\Users\\abdul\n"
     ]
    }
   ],
   "source": [
    "import os\n",
    "\n",
    "# Mevcut çalışma dizinini kontrol et\n",
    "print(os.getcwd())\n"
   ]
  },
  {
   "cell_type": "code",
   "execution_count": null,
   "id": "3ad36198-34cf-4fd2-8a53-961f28270cfa",
   "metadata": {},
   "outputs": [],
   "source": []
  }
 ],
 "metadata": {
  "kernelspec": {
   "display_name": "Python [conda env:base] *",
   "language": "python",
   "name": "conda-base-py"
  },
  "language_info": {
   "codemirror_mode": {
    "name": "ipython",
    "version": 3
   },
   "file_extension": ".py",
   "mimetype": "text/x-python",
   "name": "python",
   "nbconvert_exporter": "python",
   "pygments_lexer": "ipython3",
   "version": "3.12.7"
  }
 },
 "nbformat": 4,
 "nbformat_minor": 5
}
